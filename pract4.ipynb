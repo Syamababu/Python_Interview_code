{
 "cells": [
  {
   "cell_type": "code",
   "execution_count": 1,
   "id": "f4128fb8",
   "metadata": {},
   "outputs": [],
   "source": [
    "n=[32,454,5676,89,65,44,3,2,46,6,89,9,56]"
   ]
  },
  {
   "cell_type": "code",
   "execution_count": 4,
   "id": "d5d15d9c",
   "metadata": {},
   "outputs": [
    {
     "data": {
      "text/plain": [
       "454"
      ]
     },
     "execution_count": 4,
     "metadata": {},
     "output_type": "execute_result"
    }
   ],
   "source": [
    "n.remove(max(n))\n",
    "max(n)"
   ]
  },
  {
   "cell_type": "code",
   "execution_count": 3,
   "id": "be5180da",
   "metadata": {},
   "outputs": [
    {
     "name": "stdout",
     "output_type": "stream",
     "text": [
      "5676\n",
      "56\n"
     ]
    }
   ],
   "source": [
    "largest=n[0]\n",
    "sec=n[0]\n",
    "for i in n:\n",
    "    if i>largest:\n",
    "        largest=i\n",
    "print(largest)\n",
    "for j in n:\n",
    "    if j>sec and j!=largest:\n",
    "        sec=j\n",
    "print(j)"
   ]
  },
  {
   "cell_type": "code",
   "execution_count": 6,
   "id": "91172766",
   "metadata": {},
   "outputs": [
    {
     "name": "stdout",
     "output_type": "stream",
     "text": [
      "not a palidrome!!!\n"
     ]
    }
   ],
   "source": [
    "n=1233215\n",
    "def ispalidrome(n):\n",
    "    n=str(n)\n",
    "    temp=n\n",
    "    rev=''\n",
    "    i=len(n)-1\n",
    "    while i>=0:\n",
    "        rev=rev+n[i]\n",
    "        i=i-1\n",
    "    if temp==rev:\n",
    "        print('its a palidrome!!!')\n",
    "    else:\n",
    "        print('not a palidrome!!!')\n",
    "ispalidrome(n)"
   ]
  },
  {
   "cell_type": "code",
   "execution_count": 7,
   "id": "22595539",
   "metadata": {},
   "outputs": [
    {
     "data": {
      "text/plain": [
       "'mayhs'"
      ]
     },
     "execution_count": 7,
     "metadata": {},
     "output_type": "execute_result"
    }
   ],
   "source": [
    "st=\"shyam\"\n",
    "#11\n",
    "''.join(reversed(st))"
   ]
  },
  {
   "cell_type": "code",
   "execution_count": 8,
   "id": "f62053bf",
   "metadata": {},
   "outputs": [
    {
     "data": {
      "text/plain": [
       "'mayhs'"
      ]
     },
     "execution_count": 8,
     "metadata": {},
     "output_type": "execute_result"
    }
   ],
   "source": [
    "##22\n",
    "r=''\n",
    "i=len(st)-1\n",
    "while i>=0:\n",
    "    r=r+st[i]\n",
    "    i=i-1\n",
    "r"
   ]
  },
  {
   "cell_type": "code",
   "execution_count": 9,
   "id": "8a497889",
   "metadata": {},
   "outputs": [
    {
     "data": {
      "text/plain": [
       "'hai hero mera shyam'"
      ]
     },
     "execution_count": 9,
     "metadata": {},
     "output_type": "execute_result"
    }
   ],
   "source": [
    "s=\"shyam mera hero hai\" \n",
    "ns=s.split()\n",
    "' '.join(ns[::-1])"
   ]
  },
  {
   "cell_type": "code",
   "execution_count": 10,
   "id": "9211e090",
   "metadata": {},
   "outputs": [
    {
     "data": {
      "text/plain": [
       "'shyam arem hero iah'"
      ]
     },
     "execution_count": 10,
     "metadata": {},
     "output_type": "execute_result"
    }
   ],
   "source": [
    "d=[]\n",
    "for i in range(len(ns)):\n",
    "    if i%2==0:\n",
    "        d.append(ns[i])\n",
    "    else:\n",
    "        d.append(ns[i][::-1])\n",
    "' '.join(d)"
   ]
  },
  {
   "cell_type": "code",
   "execution_count": 11,
   "id": "67b73338",
   "metadata": {},
   "outputs": [
    {
     "data": {
      "text/plain": [
       "'mayhs arem oreh iah'"
      ]
     },
     "execution_count": 11,
     "metadata": {},
     "output_type": "execute_result"
    }
   ],
   "source": [
    "d=[]\n",
    "for i in range(len(ns)):\n",
    "    d.append(ns[i][::-1])\n",
    "' '.join(d)"
   ]
  },
  {
   "cell_type": "code",
   "execution_count": 12,
   "id": "4b49d96f",
   "metadata": {},
   "outputs": [
    {
     "data": {
      "text/plain": [
       "'sbhaybaumre'"
      ]
     },
     "execution_count": 12,
     "metadata": {},
     "output_type": "execute_result"
    }
   ],
   "source": [
    "l1=\"shyam\"\n",
    "l2=\"babure\" \n",
    "res=''\n",
    "i,j=0,0\n",
    "while i<len(l1) or j<len(l2):\n",
    "    if i<len(l1):\n",
    "        res=res+l1[i]\n",
    "        i=i+1\n",
    "    if j<len(l2):\n",
    "        res=res+l2[j]\n",
    "        j=j+1\n",
    "res"
   ]
  },
  {
   "cell_type": "code",
   "execution_count": 13,
   "id": "235774d3",
   "metadata": {},
   "outputs": [
    {
     "data": {
      "text/plain": [
       "'hjjjjkns2344555'"
      ]
     },
     "execution_count": 13,
     "metadata": {},
     "output_type": "execute_result"
    }
   ],
   "source": [
    "s=\"skjj234nj45h5j5\"\n",
    "al=[]\n",
    "num=[]\n",
    "for i in s:\n",
    "    if i.isalpha():\n",
    "        al.append(i)\n",
    "    else:\n",
    "        num.append(i)\n",
    "''.join(sorted(al)+sorted(num))"
   ]
  },
  {
   "cell_type": "code",
   "execution_count": 16,
   "id": "90723fc5",
   "metadata": {},
   "outputs": [
    {
     "name": "stdout",
     "output_type": "stream",
     "text": [
      "aaaaaaaddddsssssccccccccc"
     ]
    }
   ],
   "source": [
    "s=\"a7d4s5c9\"\n",
    "d={}\n",
    "for i in s:\n",
    "    if i.isalpha():\n",
    "        temp=i\n",
    "    else:\n",
    "        print(temp*int(i),end='')"
   ]
  },
  {
   "cell_type": "code",
   "execution_count": 18,
   "id": "1b0ad365",
   "metadata": {},
   "outputs": [
    {
     "name": "stdout",
     "output_type": "stream",
     "text": [
      "f3s3g6t4y4"
     ]
    }
   ],
   "source": [
    "s=\"fffsssggggggttttyyyy\"\n",
    "d={}\n",
    "for i in s:\n",
    "    d[i]=d.get(i,0)+1\n",
    "for k,v in d.items():\n",
    "    print(k+str(v),end='')"
   ]
  },
  {
   "cell_type": "code",
   "execution_count": 19,
   "id": "936b0b9d",
   "metadata": {},
   "outputs": [
    {
     "name": "stdout",
     "output_type": "stream",
     "text": [
      "abcaabbaaabbb"
     ]
    }
   ],
   "source": [
    "s1='abcabab'\n",
    "d={}\n",
    "for i in s1:\n",
    "    if i not in d:\n",
    "        d[i]=1\n",
    "        print(i,end='')\n",
    "    else:\n",
    "        d[i]=d[i]+1\n",
    "        print(i*d[i],end='')"
   ]
  },
  {
   "cell_type": "code",
   "execution_count": 20,
   "id": "2f429acc",
   "metadata": {},
   "outputs": [
    {
     "data": {
      "text/plain": [
       "[2, 4, 8, 6, 110, 14, 16, 16, 18, 0, 18]"
      ]
     },
     "execution_count": 20,
     "metadata": {},
     "output_type": "execute_result"
    }
   ],
   "source": [
    "n=[1,2,4,3,55,7,8,8,9,0,9]\n",
    "[i*2 for i in n]"
   ]
  },
  {
   "cell_type": "code",
   "execution_count": 21,
   "id": "39b49d37",
   "metadata": {},
   "outputs": [
    {
     "data": {
      "text/plain": [
       "[4, 8, 16, 16, 0]"
      ]
     },
     "execution_count": 21,
     "metadata": {},
     "output_type": "execute_result"
    }
   ],
   "source": [
    "[i*2 for i in n if i%2==0]"
   ]
  },
  {
   "cell_type": "code",
   "execution_count": 22,
   "id": "f0df3c15",
   "metadata": {},
   "outputs": [
    {
     "data": {
      "text/plain": [
       "[3, 4, 8, 9, 165, 21, 16, 16, 27, 0, 27]"
      ]
     },
     "execution_count": 22,
     "metadata": {},
     "output_type": "execute_result"
    }
   ],
   "source": [
    "[i*2 if i%2==0 else i*3 for i in n]"
   ]
  },
  {
   "cell_type": "code",
   "execution_count": 24,
   "id": "1df86909",
   "metadata": {},
   "outputs": [
    {
     "data": {
      "text/plain": [
       "{0: 0, 2: 4, 4: 16}"
      ]
     },
     "execution_count": 24,
     "metadata": {},
     "output_type": "execute_result"
    }
   ],
   "source": [
    "{n:n*n for n in range(6) if n%2==0}"
   ]
  },
  {
   "cell_type": "code",
   "execution_count": 27,
   "id": "2bdfd671",
   "metadata": {},
   "outputs": [
    {
     "ename": "SyntaxError",
     "evalue": "invalid syntax (2062423166.py, line 1)",
     "output_type": "error",
     "traceback": [
      "\u001b[1;36m  Cell \u001b[1;32mIn[27], line 1\u001b[1;36m\u001b[0m\n\u001b[1;33m    {n:n*n if i%2==0 else n:n*n*n for n in range(1,6)}\u001b[0m\n\u001b[1;37m                           ^\u001b[0m\n\u001b[1;31mSyntaxError\u001b[0m\u001b[1;31m:\u001b[0m invalid syntax\n"
     ]
    }
   ],
   "source": [
    "{n:n*n if i%2==0 else n:n*n*n for n in range(1,6)}"
   ]
  },
  {
   "cell_type": "code",
   "execution_count": 29,
   "id": "69a11f2d",
   "metadata": {},
   "outputs": [
    {
     "name": "stdout",
     "output_type": "stream",
     "text": [
      "afdhfi"
     ]
    }
   ],
   "source": [
    "s1='a5d4f3'\n",
    "for i in s1:\n",
    "    if i.isalpha():\n",
    "        temp=i\n",
    "        print(i,end='')\n",
    "    else:\n",
    "        print(chr(ord(temp)+int(i)),end='')"
   ]
  },
  {
   "cell_type": "code",
   "execution_count": 31,
   "id": "a1ed310b",
   "metadata": {},
   "outputs": [
    {
     "data": {
      "text/plain": [
       "120"
      ]
     },
     "execution_count": 31,
     "metadata": {},
     "output_type": "execute_result"
    }
   ],
   "source": [
    "n=5\n",
    "def facto(n):\n",
    "    if n==1:\n",
    "        return n\n",
    "    else:\n",
    "        return n*facto(n-1)\n",
    "facto(n)"
   ]
  },
  {
   "cell_type": "code",
   "execution_count": 32,
   "id": "ef3f2f1c",
   "metadata": {},
   "outputs": [],
   "source": [
    "def rev(l):\n",
    "    if not l:\n",
    "        return []\n",
    "    else:\n",
    "        return l[-1]+l[:-1]"
   ]
  },
  {
   "cell_type": "code",
   "execution_count": 34,
   "id": "77bf6a60",
   "metadata": {},
   "outputs": [
    {
     "data": {
      "text/plain": [
       "'fskdsldkj'"
      ]
     },
     "execution_count": 34,
     "metadata": {},
     "output_type": "execute_result"
    }
   ],
   "source": [
    "rev('skdsldkjf')"
   ]
  },
  {
   "cell_type": "code",
   "execution_count": 37,
   "id": "c232c614",
   "metadata": {},
   "outputs": [
    {
     "data": {
      "text/plain": [
       "4"
      ]
     },
     "execution_count": 37,
     "metadata": {},
     "output_type": "execute_result"
    }
   ],
   "source": [
    "x=[23,5,6,76,78,89,9,98,87,67,65,54]    \n",
    "n=78\n",
    "p=0\n",
    "for i in range(len(x)):\n",
    "    if n==x[i]:\n",
    "        p=p+i\n",
    "        break\n",
    "p"
   ]
  },
  {
   "cell_type": "code",
   "execution_count": 40,
   "id": "debd47f7",
   "metadata": {},
   "outputs": [
    {
     "data": {
      "text/plain": [
       "{'a': 4, 'i': 9, 'e': 2, 'u': 2}"
      ]
     },
     "execution_count": 40,
     "metadata": {},
     "output_type": "execute_result"
    }
   ],
   "source": [
    "s2='aieekkfjfiiidnvcnncjcnfhfjiiiiiaaaksjjduu'\n",
    "v=[\"a\",\"e\",\"i\",\"o\",\"u\"]\n",
    "d={}\n",
    "for i in s2:\n",
    "    if i  in v:\n",
    "        d[i]=d.get(i,0)+1\n",
    "        \n",
    "d"
   ]
  },
  {
   "cell_type": "code",
   "execution_count": 41,
   "id": "b6fece84",
   "metadata": {},
   "outputs": [],
   "source": [
    "x=[34,56,67,78,89,3,4,5,5,6]\n",
    "x.sort()"
   ]
  },
  {
   "cell_type": "code",
   "execution_count": 42,
   "id": "d2eb91f6",
   "metadata": {},
   "outputs": [
    {
     "data": {
      "text/plain": [
       "[3, 4, 5, 5, 6, 34, 56, 67, 78, 89]"
      ]
     },
     "execution_count": 42,
     "metadata": {},
     "output_type": "execute_result"
    }
   ],
   "source": [
    "x"
   ]
  },
  {
   "cell_type": "code",
   "execution_count": 44,
   "id": "d890d801",
   "metadata": {},
   "outputs": [
    {
     "data": {
      "text/plain": [
       "[34, 56, 67, 78, 89, 3, 4, 5, 5, 6]"
      ]
     },
     "execution_count": 44,
     "metadata": {},
     "output_type": "execute_result"
    }
   ],
   "source": [
    "x=[34,56,67,78,89,3,4,5,5,6]\n",
    "x"
   ]
  },
  {
   "cell_type": "code",
   "execution_count": 46,
   "id": "bcfbc471",
   "metadata": {},
   "outputs": [
    {
     "data": {
      "text/plain": [
       "[3, 4, 5, 5, 6, 34, 56, 67, 78, 89]"
      ]
     },
     "execution_count": 46,
     "metadata": {},
     "output_type": "execute_result"
    }
   ],
   "source": [
    "for i in range(len(x)):\n",
    "    for j in range(i+1,len(x)):\n",
    "        if x[i]>x[j]:\n",
    "            temp=x[i]\n",
    "            x[i]=x[j]\n",
    "            x[j]=temp\n",
    "x"
   ]
  },
  {
   "cell_type": "code",
   "execution_count": 51,
   "id": "7e33c406",
   "metadata": {},
   "outputs": [
    {
     "data": {
      "text/plain": [
       "[3, 4, 5, 5, 6, 34, 56, 67, 78, 89]"
      ]
     },
     "execution_count": 51,
     "metadata": {},
     "output_type": "execute_result"
    }
   ],
   "source": [
    "x=[34,56,67,78,89,3,4,5,5,6]\n",
    "for i in range(len(x)):\n",
    "    for j in range(0,len(x)-1):\n",
    "        if x[j]>x[j+1]:\n",
    "            temp=x[j]\n",
    "            x[j]=x[j+1]\n",
    "            x[j+1]=temp\n",
    "x"
   ]
  },
  {
   "cell_type": "code",
   "execution_count": 52,
   "id": "8c986187",
   "metadata": {},
   "outputs": [
    {
     "name": "stdout",
     "output_type": "stream",
     "text": [
      "7\n"
     ]
    }
   ],
   "source": [
    "x=9\n",
    "def func(x):\n",
    "    x=7\n",
    "    print(x)\n",
    "func(x)"
   ]
  },
  {
   "cell_type": "code",
   "execution_count": 53,
   "id": "55bb8923",
   "metadata": {},
   "outputs": [
    {
     "data": {
      "text/plain": [
       "9"
      ]
     },
     "execution_count": 53,
     "metadata": {},
     "output_type": "execute_result"
    }
   ],
   "source": [
    "x"
   ]
  },
  {
   "cell_type": "code",
   "execution_count": 54,
   "id": "9cac4392",
   "metadata": {},
   "outputs": [
    {
     "name": "stdout",
     "output_type": "stream",
     "text": [
      "[2, 45, 4]\n"
     ]
    }
   ],
   "source": [
    "l=[2,3,4]\n",
    "def func(l):\n",
    "    l[1]=45\n",
    "    print(l)\n",
    "func(l)"
   ]
  },
  {
   "cell_type": "code",
   "execution_count": 55,
   "id": "9a1afd03",
   "metadata": {},
   "outputs": [
    {
     "data": {
      "text/plain": [
       "[2, 45, 4]"
      ]
     },
     "execution_count": 55,
     "metadata": {},
     "output_type": "execute_result"
    }
   ],
   "source": [
    "l"
   ]
  },
  {
   "cell_type": "code",
   "execution_count": null,
   "id": "00ada105",
   "metadata": {},
   "outputs": [],
   "source": []
  },
  {
   "cell_type": "code",
   "execution_count": null,
   "id": "d870888f",
   "metadata": {},
   "outputs": [],
   "source": []
  }
 ],
 "metadata": {
  "kernelspec": {
   "display_name": "Python 3 (ipykernel)",
   "language": "python",
   "name": "python3"
  },
  "language_info": {
   "codemirror_mode": {
    "name": "ipython",
    "version": 3
   },
   "file_extension": ".py",
   "mimetype": "text/x-python",
   "name": "python",
   "nbconvert_exporter": "python",
   "pygments_lexer": "ipython3",
   "version": "3.10.9"
  }
 },
 "nbformat": 4,
 "nbformat_minor": 5
}
