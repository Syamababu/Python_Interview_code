{
 "cells": [
  {
   "cell_type": "code",
   "execution_count": null,
   "id": "6de76428",
   "metadata": {},
   "outputs": [],
   "source": [
    "django-admin startproject myproject\n",
    "python manage.py startapp myapp\n",
    "python manage.py runserver\n",
    "==================================\n",
    "get\n",
    "filter\n",
    "all\n",
    "model.objects.all()\n",
    "model.objects.filter(name='shyam')\n",
    "model.object.get(id=45)\n",
    "delete\n",
    "model.objects.get(id=4).delete()\n",
    "update\n",
    "temp_obj=model.objects.get(id=22)\n",
    "temp_obj.name='syamababu'\n",
    "temp_obj.save()\n",
    "insert\n",
    "obj=model(name='ramu',id=34)\n",
    "obj.save()"
   ]
  },
  {
   "cell_type": "code",
   "execution_count": null,
   "id": "af0aff3d",
   "metadata": {},
   "outputs": [],
   "source": [
    "# combining multiple queryset\n",
    "query1=blog.objects.get(id=23)\n",
    "query2=email.objects.get(id=78)\n",
    "query3=blog.objects.get(id=99)\n",
    "## union if same model\n",
    "res=query1 | query3\n",
    "## itertool if diff model\n",
    "from itertools import chain\n",
    "res=list(chain(query1 | query2))"
   ]
  },
  {
   "cell_type": "code",
   "execution_count": 1,
   "id": "6bc1d8eb",
   "metadata": {},
   "outputs": [
    {
     "ename": "ModuleNotFoundError",
     "evalue": "No module named 'django'",
     "output_type": "error",
     "traceback": [
      "\u001b[1;31m---------------------------------------------------------------------------\u001b[0m",
      "\u001b[1;31mModuleNotFoundError\u001b[0m                       Traceback (most recent call last)",
      "Cell \u001b[1;32mIn[1], line 1\u001b[0m\n\u001b[1;32m----> 1\u001b[0m \u001b[38;5;28;01mfrom\u001b[39;00m \u001b[38;5;21;01mdjango\u001b[39;00m\u001b[38;5;21;01m.\u001b[39;00m\u001b[38;5;21;01mdb\u001b[39;00m \u001b[38;5;28;01mimport\u001b[39;00m models\n\u001b[0;32m      3\u001b[0m \u001b[38;5;28;01mclass\u001b[39;00m \u001b[38;5;21;01mAbstractPerson\u001b[39;00m(models\u001b[38;5;241m.\u001b[39mModel):\n\u001b[0;32m      4\u001b[0m     first_name \u001b[38;5;241m=\u001b[39m models\u001b[38;5;241m.\u001b[39mCharField(max_length\u001b[38;5;241m=\u001b[39m\u001b[38;5;241m50\u001b[39m)\n",
      "\u001b[1;31mModuleNotFoundError\u001b[0m: No module named 'django'"
     ]
    }
   ],
   "source": [
    "from django.db import models\n",
    "\n",
    "class AbstractPerson(models.Model):\n",
    "    first_name = models.CharField(max_length=50)\n",
    "    last_name = models.CharField(max_length=50)\n",
    "    email = models.EmailField()\n",
    "\n",
    "    class Meta:\n",
    "        abstract = True\n",
    "\n",
    "class Employee(AbstractPerson):\n",
    "    job_title = models.CharField(max_length=100)\n",
    "    salary = models.IntegerField()\n",
    "\n",
    "class Customer(AbstractPerson):\n",
    "    address = models.CharField(max_length=200)\n",
    "    phone_number = models.CharField(max_length=20)\n"
   ]
  },
  {
   "cell_type": "code",
   "execution_count": null,
   "id": "c8a23ab1",
   "metadata": {},
   "outputs": [],
   "source": [
    "from django.db import model\n",
    "\n",
    "class student(models.Model):\n",
    "    first_name=models.Charfield(max_length=200)\n",
    "    last_name=models.Charfield(max_length=300)\n",
    "    salary=models.Charfield(integerField)\n",
    "    \n",
    "    class Meta:\n",
    "        abstract=True\n",
    "        \n",
    "    class Meta:\n",
    "        proxy=True"
   ]
  },
  {
   "cell_type": "code",
   "execution_count": null,
   "id": "a850b120",
   "metadata": {},
   "outputs": [],
   "source": [
    "from rest_framework import APIViews\n",
    "\n",
    "class createstudent(APIViews):\n",
    "    \n",
    "    def get(self,request):\n",
    "        data=model.object.all()\n",
    "        context={\"data\":data}\n",
    "        return render(requset,'home.html',context)\n",
    "    def post(self,request):\n",
    "        form=StudentForm(request.POST)\n",
    "        if form.is_valid():\n",
    "            form.save()\n",
    "            redirect('/')\n",
    "        else:\n",
    "            return render(request,'home.html',context)\n",
    "    \n",
    "    "
   ]
  },
  {
   "cell_type": "code",
   "execution_count": null,
   "id": "a1cae6f0",
   "metadata": {},
   "outputs": [],
   "source": [
    "from django.db.model import models\n",
    "\n",
    "class person(models.Model):\n",
    "    firstname=models.Charfields(max_length=200)\n",
    "    lastname=models.charfields(max_length=199)\n",
    "    \n",
    "    class Meta:\n",
    "        abstract=True\n",
    "\n"
   ]
  },
  {
   "cell_type": "code",
   "execution_count": null,
   "id": "a98ecf72",
   "metadata": {},
   "outputs": [],
   "source": [
    "from rest_framework import APIViews\n",
    "\n",
    "class myclass(APIViews):\n",
    "    \n",
    "    def get(self,request):\n",
    "        record=Model.objects.all()\n",
    "        context={'record':record}\n",
    "        return render(request,'home.html',context)\n",
    "\n",
    "    def post(self,request):\n",
    "        serializer=StudentSerielizer(request.POST)\n",
    "        if serializer.is_valid():\n",
    "            serializer.save()\n",
    "            rediect('/')\n",
    "        else:\n",
    "            return render(request,'home.html')"
   ]
  },
  {
   "cell_type": "code",
   "execution_count": null,
   "id": "a97e2ee2",
   "metadata": {},
   "outputs": [],
   "source": [
    "from rest_framework import serializer\n",
    "class studentserializer(serializer.ModelSerializer):\n",
    "    class meta:\n",
    "        model=student\n",
    "        fields='__all__'"
   ]
  },
  {
   "cell_type": "code",
   "execution_count": null,
   "id": "15f5d21f",
   "metadata": {},
   "outputs": [],
   "source": []
  },
  {
   "cell_type": "code",
   "execution_count": null,
   "id": "2bb3bba1",
   "metadata": {},
   "outputs": [],
   "source": []
  },
  {
   "cell_type": "code",
   "execution_count": null,
   "id": "fb562ca2",
   "metadata": {},
   "outputs": [],
   "source": []
  }
 ],
 "metadata": {
  "kernelspec": {
   "display_name": "Python 3 (ipykernel)",
   "language": "python",
   "name": "python3"
  },
  "language_info": {
   "codemirror_mode": {
    "name": "ipython",
    "version": 3
   },
   "file_extension": ".py",
   "mimetype": "text/x-python",
   "name": "python",
   "nbconvert_exporter": "python",
   "pygments_lexer": "ipython3",
   "version": "3.10.9"
  }
 },
 "nbformat": 4,
 "nbformat_minor": 5
}
