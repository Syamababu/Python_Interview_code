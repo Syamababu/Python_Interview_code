{
 "cells": [
  {
   "cell_type": "code",
   "execution_count": 4,
   "id": "327567fb",
   "metadata": {},
   "outputs": [
    {
     "data": {
      "text/plain": [
       "454"
      ]
     },
     "execution_count": 4,
     "metadata": {},
     "output_type": "execute_result"
    }
   ],
   "source": [
    "n=[32,454,5676,89,65,44,3,2,46,6,89,9,56]\n",
    "larg=n[0]\n",
    "s_larg=n[0]\n",
    "for i in n:\n",
    "    if i>larg:\n",
    "        larg=i\n",
    "for j in n:\n",
    "    if j>s_larg and j!=larg:\n",
    "        s_larg=j\n",
    "s_larg\n"
   ]
  },
  {
   "cell_type": "code",
   "execution_count": 5,
   "id": "287566f9",
   "metadata": {},
   "outputs": [],
   "source": [
    "n.remove(max(n))"
   ]
  },
  {
   "cell_type": "code",
   "execution_count": 6,
   "id": "e5809d8b",
   "metadata": {},
   "outputs": [
    {
     "data": {
      "text/plain": [
       "454"
      ]
     },
     "execution_count": 6,
     "metadata": {},
     "output_type": "execute_result"
    }
   ],
   "source": [
    "max(n)"
   ]
  },
  {
   "cell_type": "code",
   "execution_count": 7,
   "id": "a2ebd897",
   "metadata": {},
   "outputs": [
    {
     "data": {
      "text/plain": [
       "89"
      ]
     },
     "execution_count": 7,
     "metadata": {},
     "output_type": "execute_result"
    }
   ],
   "source": [
    "sorted(n)[-2]"
   ]
  },
  {
   "cell_type": "code",
   "execution_count": 8,
   "id": "3f0fe705",
   "metadata": {},
   "outputs": [
    {
     "data": {
      "text/plain": [
       "'mayhs'"
      ]
     },
     "execution_count": 8,
     "metadata": {},
     "output_type": "execute_result"
    }
   ],
   "source": [
    "st=\"shyam\"\n",
    "''.join(reversed(st))"
   ]
  },
  {
   "cell_type": "code",
   "execution_count": 12,
   "id": "226ad2ec",
   "metadata": {},
   "outputs": [
    {
     "data": {
      "text/plain": [
       "'mayhs'"
      ]
     },
     "execution_count": 12,
     "metadata": {},
     "output_type": "execute_result"
    }
   ],
   "source": [
    "r=''\n",
    "i=len(st)-1\n",
    "while i>=0:\n",
    "    r+=st[i]\n",
    "    i=i-1\n",
    "r"
   ]
  },
  {
   "cell_type": "code",
   "execution_count": 14,
   "id": "e494450e",
   "metadata": {},
   "outputs": [
    {
     "data": {
      "text/plain": [
       "'hai hero mera shyam'"
      ]
     },
     "execution_count": 14,
     "metadata": {},
     "output_type": "execute_result"
    }
   ],
   "source": [
    "s=\"shyam mera hero hai\" \n",
    "ss=s.split()\n",
    "' '.join(ss[::-1])"
   ]
  },
  {
   "cell_type": "code",
   "execution_count": 15,
   "id": "0562e8ba",
   "metadata": {},
   "outputs": [
    {
     "data": {
      "text/plain": [
       "'sbhaybaumre'"
      ]
     },
     "execution_count": 15,
     "metadata": {},
     "output_type": "execute_result"
    }
   ],
   "source": [
    "l1=\"shyam\"\n",
    "l2=\"babure\"\n",
    "i,j=0,0\n",
    "r=''\n",
    "while i<len(l1) or j<len(l2):\n",
    "    if i<len(l1):\n",
    "        r+=l1[i]\n",
    "        i+=1\n",
    "    if j<len(l2):\n",
    "        r+=l2[j]\n",
    "        j+=1\n",
    "r"
   ]
  },
  {
   "cell_type": "code",
   "execution_count": 16,
   "id": "177d796d",
   "metadata": {},
   "outputs": [
    {
     "data": {
      "text/plain": [
       "'hjjjjkns2344555'"
      ]
     },
     "execution_count": 16,
     "metadata": {},
     "output_type": "execute_result"
    }
   ],
   "source": [
    "s=\"skjj234nj45h5j5\"\n",
    "al=[]\n",
    "n=[]\n",
    "for i in s:\n",
    "    if i.isalpha():\n",
    "        al.append(i)\n",
    "    else:\n",
    "        n.append(i)\n",
    "''.join(sorted(al)+sorted(n))"
   ]
  },
  {
   "cell_type": "code",
   "execution_count": 17,
   "id": "de0f7a42",
   "metadata": {},
   "outputs": [
    {
     "name": "stdout",
     "output_type": "stream",
     "text": [
      "ahdhsxcl"
     ]
    }
   ],
   "source": [
    "s=\"a7d4s5c9\"\n",
    "for i in s:\n",
    "    if i.isalpha():\n",
    "        temp=i\n",
    "        print(i,end='')\n",
    "    else:\n",
    "        print(chr(ord(temp)+int(i)),end='')"
   ]
  },
  {
   "cell_type": "code",
   "execution_count": 20,
   "id": "e5740d03",
   "metadata": {},
   "outputs": [
    {
     "name": "stdout",
     "output_type": "stream",
     "text": [
      "aaaaaaaddddsssssccccccccc"
     ]
    }
   ],
   "source": [
    "d=[]\n",
    "for i in s:\n",
    "    if i.isalpha():\n",
    "        temp=i\n",
    "    else:\n",
    "        print(temp*int(i),end='')\n",
    "        "
   ]
  },
  {
   "cell_type": "code",
   "execution_count": 22,
   "id": "ac5ca306",
   "metadata": {},
   "outputs": [
    {
     "name": "stdout",
     "output_type": "stream",
     "text": [
      "f3s3g6t4y4"
     ]
    }
   ],
   "source": [
    "s=\"fffsssggggggttttyyyy\"\n",
    "d={}\n",
    "for i in s:\n",
    "    d[i]=d.get(i,0)+1\n",
    "for k,v in d.items():\n",
    "    print(k+str(v),end='')"
   ]
  },
  {
   "cell_type": "code",
   "execution_count": 24,
   "id": "c89ca541",
   "metadata": {},
   "outputs": [
    {
     "name": "stdout",
     "output_type": "stream",
     "text": [
      "abcaabbaaabbb"
     ]
    }
   ],
   "source": [
    "s1='abcabab'\n",
    "d={}\n",
    "for i in s1:\n",
    "    if i not in d:\n",
    "        d[i]=1\n",
    "        print(i,end='')\n",
    "    else:\n",
    "        d[i]=d[i]+1\n",
    "        print(i*d[i],end='')\n",
    "        \n",
    "    "
   ]
  },
  {
   "cell_type": "code",
   "execution_count": 26,
   "id": "568b5ded",
   "metadata": {},
   "outputs": [
    {
     "name": "stdout",
     "output_type": "stream",
     "text": [
      "palidrome\n"
     ]
    }
   ],
   "source": [
    "s=\"nitin\"\n",
    "temp=s\n",
    "r=''\n",
    "i=len(s)-1\n",
    "while i>=0:\n",
    "    r+=s[i]\n",
    "    i-=1\n",
    "if temp==r:\n",
    "    print('palidrome')\n",
    "else:\n",
    "    print('not palidrome')"
   ]
  },
  {
   "cell_type": "code",
   "execution_count": 31,
   "id": "22a80bd4",
   "metadata": {},
   "outputs": [
    {
     "name": "stdout",
     "output_type": "stream",
     "text": [
      "1\n",
      "1\n",
      "2\n",
      "3\n",
      "5\n"
     ]
    }
   ],
   "source": [
    "n=5\n",
    "a,b=0,1\n",
    "for i in range(n):\n",
    "    a,b=b,a+b\n",
    "    print(a)"
   ]
  },
  {
   "cell_type": "code",
   "execution_count": null,
   "id": "11c72e69",
   "metadata": {},
   "outputs": [],
   "source": [
    "class myclass:\n",
    "    pass\n",
    "obj1=myclass()\n",
    "-------------"
   ]
  },
  {
   "cell_type": "code",
   "execution_count": 2,
   "id": "a7c8683b",
   "metadata": {},
   "outputs": [
    {
     "data": {
      "text/plain": [
       "{'name': 'shyam', 'salary': 20000}"
      ]
     },
     "execution_count": 2,
     "metadata": {},
     "output_type": "execute_result"
    }
   ],
   "source": [
    "class employee:\n",
    "    def __init__(self):\n",
    "        self.name='shyam'\n",
    "        self.salary=20000\n",
    "        \n",
    "ob1=employee()\n",
    "ob1.__dict__"
   ]
  },
  {
   "cell_type": "code",
   "execution_count": 4,
   "id": "d98decc7",
   "metadata": {},
   "outputs": [
    {
     "data": {
      "text/plain": [
       "{'name': 'anil', 'salary': 100000}"
      ]
     },
     "execution_count": 4,
     "metadata": {},
     "output_type": "execute_result"
    }
   ],
   "source": [
    "class employee:\n",
    "    def __init__(self,name,salary):\n",
    "        self.name=name\n",
    "        self.salary=salary\n",
    "ob2=employee('anil',100000)\n",
    "ob2.__dict__"
   ]
  },
  {
   "cell_type": "code",
   "execution_count": 5,
   "id": "2fc80d39",
   "metadata": {},
   "outputs": [
    {
     "data": {
      "text/plain": [
       "{'name': 'raju', 'salary': 100000}"
      ]
     },
     "execution_count": 5,
     "metadata": {},
     "output_type": "execute_result"
    }
   ],
   "source": [
    "ob2.name='raju'\n",
    "ob2.__dict__"
   ]
  },
  {
   "cell_type": "code",
   "execution_count": 12,
   "id": "f973b0b3",
   "metadata": {},
   "outputs": [
    {
     "name": "stdout",
     "output_type": "stream",
     "text": [
      "emplye name , shyam with salary1000000\n",
      "my organization is Ascent\n"
     ]
    }
   ],
   "source": [
    "# instance \n",
    "# class \n",
    "# static\n",
    "class employee:\n",
    "    organization='Ascent'\n",
    "    def __init__(self):\n",
    "        self._name='shyam'\n",
    "        self.__salary=1000000\n",
    "    def getmethode(self):\n",
    "        print(f'emplye name , {self._name} with salary{self.__salary}')\n",
    "        \n",
    "    def setmethode(self,name):\n",
    "        self.name=name\n",
    "        \n",
    "    @classmethod   \n",
    "    def classmethodee(cls):\n",
    "        print(f'my organization is {cls.organization}')\n",
    "        \n",
    "    @staticmethod\n",
    "    def staticmethodee():\n",
    "        print('static')\n",
    "    \n",
    "o=employee()\n",
    "o.getmethode()\n",
    "o.setmethode('kunal')\n",
    "o.__dict__\n",
    "o.classmethodee()"
   ]
  },
  {
   "cell_type": "code",
   "execution_count": null,
   "id": "91f5655e",
   "metadata": {},
   "outputs": [],
   "source": []
  }
 ],
 "metadata": {
  "kernelspec": {
   "display_name": "Python 3 (ipykernel)",
   "language": "python",
   "name": "python3"
  },
  "language_info": {
   "codemirror_mode": {
    "name": "ipython",
    "version": 3
   },
   "file_extension": ".py",
   "mimetype": "text/x-python",
   "name": "python",
   "nbconvert_exporter": "python",
   "pygments_lexer": "ipython3",
   "version": "3.10.9"
  }
 },
 "nbformat": 4,
 "nbformat_minor": 5
}
