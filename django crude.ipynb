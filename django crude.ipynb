{
 "cells": [
  {
   "cell_type": "code",
   "execution_count": 2,
   "id": "0a65427d",
   "metadata": {},
   "outputs": [
    {
     "ename": "SyntaxError",
     "evalue": "invalid syntax (957278657.py, line 25)",
     "output_type": "error",
     "traceback": [
      "\u001b[1;36m  Cell \u001b[1;32mIn[2], line 25\u001b[1;36m\u001b[0m\n\u001b[1;33m    retutn redirect('home')\u001b[0m\n\u001b[1;37m           ^\u001b[0m\n\u001b[1;31mSyntaxError\u001b[0m\u001b[1;31m:\u001b[0m invalid syntax\n"
     ]
    }
   ],
   "source": [
    "def delete_view(request,pk):\n",
    "    data=model.object.get(id=id)\n",
    "    data.delete()\n",
    "    redirect('home/')\n",
    "def delete_func(request,pk):\n",
    "    obj=model.objects.get(id=pk)\n",
    "    obj.delete()\n",
    "    return redirect('home/')\n",
    "    \n",
    "def get_data(request):\n",
    "    if request.method=='GET':\n",
    "        record=model.object.all()\n",
    "        return render(request,'home.html',{'record':record})\n",
    "\n",
    "def get_dat_func(request):\n",
    "    if request.method=='GET':\n",
    "        record=model.objects.all()\n",
    "        return render(request,'home.html',{'record':record})\n",
    "\n",
    "def insert_data(request):\n",
    "    if request.method=='POST':\n",
    "        data=studentForm(request.POST)\n",
    "        if data.is_valid():\n",
    "            data.save()\n",
    "            retutn redirect('home')\n",
    "        else:\n",
    "            studentFomr()\n",
    "    return render(request,'home.html',{'data':data})\n",
    "\n",
    "def insert_data(request):\n",
    "    if request.method=='POST':\n",
    "        data=StudentForm(request.POST)\n",
    "        if data.is_valid():\n",
    "            data.save()\n",
    "            return redirect('/')\n",
    "        else:\n",
    "            studentForm()\n",
    "    return render(request,'home.html',{'data':data})\n",
    "\n",
    "def update_data(request,pk):\n",
    "    instance=model.object.get(id=pk)\n",
    "    if request.method=='POST':\n",
    "        form=studentForm(request.POST,instance)\n",
    "        if form.is_valide():\n",
    "            form.save()\n",
    "            redirect('home')\n",
    "        else:\n",
    "            return render(request,'home.html',{'form':form})\n",
    "        return render(request,'home.html',{'form':form})\n",
    "    \n",
    "    \n",
    "def updatedata(request,pk):\n",
    "    record=model.objects.get(id=pk)\n",
    "    if request.method=='POST':\n",
    "        form=StudentForm(request.POST,record)\n",
    "        if form.is_valid():\n",
    "            form.save()\n",
    "        else:\n",
    "            "
   ]
  },
  {
   "cell_type": "code",
   "execution_count": 3,
   "id": "1c8d3f3e",
   "metadata": {},
   "outputs": [],
   "source": [
    "def get_methode(request):\n",
    "    if request.method=='GET':\n",
    "        dic=model.objects.all()\n",
    "        return render(request,'home.html',{'context':dict})\n"
   ]
  },
  {
   "cell_type": "code",
   "execution_count": 4,
   "id": "5b834069",
   "metadata": {},
   "outputs": [
    {
     "ename": "NameError",
     "evalue": "name 'x' is not defined",
     "output_type": "error",
     "traceback": [
      "\u001b[1;31m---------------------------------------------------------------------------\u001b[0m",
      "\u001b[1;31mNameError\u001b[0m                                 Traceback (most recent call last)",
      "Cell \u001b[1;32mIn[4], line 1\u001b[0m\n\u001b[1;32m----> 1\u001b[0m \u001b[43mx\u001b[49m\n",
      "\u001b[1;31mNameError\u001b[0m: name 'x' is not defined"
     ]
    }
   ],
   "source": [
    "x"
   ]
  },
  {
   "cell_type": "code",
   "execution_count": null,
   "id": "c8a947a2",
   "metadata": {},
   "outputs": [],
   "source": [
    "obj=[1, 3, 5, 2, 6, 10]\n",
    "from functools import reduce\n",
    "reduce(lambda x,y:x+y ,obj)"
   ]
  },
  {
   "cell_type": "code",
   "execution_count": null,
   "id": "dae6d8d1",
   "metadata": {},
   "outputs": [],
   "source": [
    "def myfunc(x):\n",
    "    if x%2==0:\n",
    "        return x\n",
    "    else:\n",
    "        return None"
   ]
  },
  {
   "cell_type": "code",
   "execution_count": null,
   "id": "da2b6244",
   "metadata": {},
   "outputs": [],
   "source": []
  },
  {
   "cell_type": "code",
   "execution_count": null,
   "id": "46b43268",
   "metadata": {},
   "outputs": [],
   "source": [
    "class TeacherChatlist(APIVIew):\n",
    "    def get(self,request):\n",
    "        studentid=request.user.id\n",
    "        teacher_list=CouseBooking.objects.filter(user_id=student_)"
   ]
  },
  {
   "cell_type": "code",
   "execution_count": null,
   "id": "db4b373e",
   "metadata": {},
   "outputs": [],
   "source": [
    "class TeacherChatList(APIView):\n",
    "    \n",
    "    permission_classes = (IsStudent,)\n",
    "\n",
    "    def get(self,request):\n",
    "        try:\n",
    "            student_id = request.user.id\n",
    "            print(\"student_id\", student_id)\n",
    "            teacher_list = CourseBooking.objects.filter(user_id = student_id, is_booking = True).values('teacher_id').distinct()\n",
    "            print(\"teacher_list\", teacher_list)\n",
    "            teacher_details = User.objects.filter(id__in=teacher_list)\n",
    "            print(\"teacher_details\")\n",
    "            serializer = TeacherChatListSerializer(teacher_details,many = True,context = {\"student\":student_id})\n",
    "            return api_response(200,\"Teacher chat list retrived successfully\",serializer.data,status=True)\n",
    "        \n",
    "        except:\n",
    "            print(sys.exc_info())\n",
    "            return api_response(400, \"Teacher chat list retrive failed\", {}, status = False)"
   ]
  }
 ],
 "metadata": {
  "kernelspec": {
   "display_name": "Python 3 (ipykernel)",
   "language": "python",
   "name": "python3"
  },
  "language_info": {
   "codemirror_mode": {
    "name": "ipython",
    "version": 3
   },
   "file_extension": ".py",
   "mimetype": "text/x-python",
   "name": "python",
   "nbconvert_exporter": "python",
   "pygments_lexer": "ipython3",
   "version": "3.10.9"
  }
 },
 "nbformat": 4,
 "nbformat_minor": 5
}
