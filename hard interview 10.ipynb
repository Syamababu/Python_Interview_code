{
 "cells": [
  {
   "cell_type": "code",
   "execution_count": null,
   "id": "bbe68dce",
   "metadata": {},
   "outputs": [],
   "source": [
    "Find the existing breackets are balanced or not\n",
    "Test Case 1\n",
    "i/p = \"{[[][]{}]}\"\n",
    "o/p = True\n",
    "\n",
    "Test Case 2\n",
    "i/p = \"{{{{[}]}}}\"\n",
    "o/p = False\n",
    "\n",
    "Test Case 3 \n",
    "i/p = \"{[]}\"\n",
    "o/p = True\n",
    "\n",
    "Test Case 4\n",
    "i/p = \"[{]}\"\n",
    "o/p = False"
   ]
  },
  {
   "cell_type": "code",
   "execution_count": 3,
   "id": "b1c90147",
   "metadata": {},
   "outputs": [],
   "source": [
    "s=\"{[]}\"\n"
   ]
  },
  {
   "cell_type": "code",
   "execution_count": 1,
   "id": "7118ed45",
   "metadata": {},
   "outputs": [
    {
     "data": {
      "text/plain": [
       "False"
      ]
     },
     "execution_count": 1,
     "metadata": {},
     "output_type": "execute_result"
    }
   ],
   "source": [
    "'{'=='}'"
   ]
  },
  {
   "cell_type": "code",
   "execution_count": 4,
   "id": "edadccaa",
   "metadata": {},
   "outputs": [
    {
     "data": {
      "text/plain": [
       "{'{': 1, '[': 1, ']': 1, '}': 1}"
      ]
     },
     "execution_count": 4,
     "metadata": {},
     "output_type": "execute_result"
    }
   ],
   "source": [
    "d={}\n",
    "for i in s:\n",
    "    d[i]=d.get(i,0)+1\n",
    "d"
   ]
  },
  {
   "cell_type": "code",
   "execution_count": null,
   "id": "c06a79c2",
   "metadata": {},
   "outputs": [],
   "source": [
    "Find second highest number in the list\n",
    "- without sorting a list\n",
    "- without using python build in features\n",
    "\n",
    "Test Case 1\n",
    "lst = [10,8,5,11,11,7,3,15,1,5,6]\n",
    "o/p = 11\n",
    "\n",
    "Test Case 2\n",
    "lst = [15,8,5,13,11,7,3,14,1,5,6]\n",
    "o/p = 14\n",
    "Find second highest number in the list\n",
    "- without sorting a list\n",
    "- without using python build in features\n",
    "\n",
    "Test Case 1\n",
    "lst = [10,8,5,11,11,7,3,15,1,5,6]\n",
    "o/p = 11\n",
    "\n",
    "Test Case 2\n",
    "lst = [15,8,5,13,11,7,3,14,1,5,6]\n",
    "o/p = 14"
   ]
  },
  {
   "cell_type": "code",
   "execution_count": 7,
   "id": "f557d11a",
   "metadata": {},
   "outputs": [
    {
     "data": {
      "text/plain": [
       "11"
      ]
     },
     "execution_count": 7,
     "metadata": {},
     "output_type": "execute_result"
    }
   ],
   "source": [
    "l=[10,8,5,11,11,7,3,15,1,5,6]\n",
    "largest=l[0]\n",
    "sec=l[0]\n",
    "for i in l:\n",
    "    if i>largest:\n",
    "        largest=i\n",
    "for j in l:\n",
    "    if j>sec and j!=largest:\n",
    "        sec=j\n",
    "sec"
   ]
  },
  {
   "cell_type": "code",
   "execution_count": null,
   "id": "05702fc8",
   "metadata": {},
   "outputs": [],
   "source": [
    "Given Two non empty array of integers, write a function to determine whether the second array is subsecuent of first one\n",
    "\n",
    "Test Case 1\n",
    "{\"array\": [5,1,22, 25,6,-1,8,10], sequence\": [1, 6, -1, 10]}\n",
    "True\n",
    "\n",
    "Test Case 2\n",
    "{\"array\": [5, 1, 22, 25, 6, -1, 8, 10],\"sequence\": [5, 1, 22, 25, 6, -1, 8, 10]}\n",
    "True\n",
    "\n",
    "Test Case 3\n",
    "{\"array\": [5, 1, 22, 25, 6, -1, 8, 10],\"sequence\": [5, 1, 22, 25, 6, -1, 8, 10, 11]}\n",
    "False"
   ]
  },
  {
   "cell_type": "code",
   "execution_count": 10,
   "id": "cbe68faa",
   "metadata": {},
   "outputs": [],
   "source": [
    "def myfunc(array,seq):\n",
    "    array=array\n",
    "    seq=seq\n",
    "    for i in seq:\n",
    "        if i not in array:\n",
    "            print('not an sequence')\n",
    "            break\n",
    "    else:\n",
    "        print('its a sequence')"
   ]
  },
  {
   "cell_type": "code",
   "execution_count": 12,
   "id": "a5c0fc28",
   "metadata": {},
   "outputs": [
    {
     "name": "stdout",
     "output_type": "stream",
     "text": [
      "its a sequence\n"
     ]
    }
   ],
   "source": [
    "array=[5,1,22, 25,6,-1,8,10]\n",
    "seq=[1, 6, 10,-1]\n",
    "myfunc(array,seq)"
   ]
  },
  {
   "cell_type": "code",
   "execution_count": null,
   "id": "6b5d3e0d",
   "metadata": {},
   "outputs": [],
   "source": []
  }
 ],
 "metadata": {
  "kernelspec": {
   "display_name": "Python 3 (ipykernel)",
   "language": "python",
   "name": "python3"
  },
  "language_info": {
   "codemirror_mode": {
    "name": "ipython",
    "version": 3
   },
   "file_extension": ".py",
   "mimetype": "text/x-python",
   "name": "python",
   "nbconvert_exporter": "python",
   "pygments_lexer": "ipython3",
   "version": "3.10.9"
  }
 },
 "nbformat": 4,
 "nbformat_minor": 5
}
