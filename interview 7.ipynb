{
 "cells": [
  {
   "cell_type": "code",
   "execution_count": null,
   "id": "6c1f6c72",
   "metadata": {},
   "outputs": [],
   "source": [
    "def higest_occurence(a):\n",
    "    \n",
    "\n",
    "if __name__ == '__main__':\n",
    "    print(higest_occurence(a = [1,2,3,3,3,3,4,5,5,5,6,7]))"
   ]
  },
  {
   "cell_type": "code",
   "execution_count": 24,
   "id": "115a5b66",
   "metadata": {},
   "outputs": [
    {
     "data": {
      "text/plain": [
       "3"
      ]
     },
     "execution_count": 24,
     "metadata": {},
     "output_type": "execute_result"
    }
   ],
   "source": [
    "a = [1,2,3,3,3,3,4,5,5,5,6,7]\n",
    "max(a,key=a.count)"
   ]
  },
  {
   "cell_type": "code",
   "execution_count": 14,
   "id": "d49ed886",
   "metadata": {},
   "outputs": [
    {
     "name": "stdout",
     "output_type": "stream",
     "text": [
      "1 1\n",
      "2 1\n",
      "3 4\n",
      "4 1\n",
      "5 3\n",
      "6 1\n",
      "7 1\n"
     ]
    }
   ],
   "source": [
    "d=set(a)\n",
    "for i in d:\n",
    "    print(i,a.count(i))\n",
    "dictt={i:a.count(i) for i in d}"
   ]
  },
  {
   "cell_type": "code",
   "execution_count": 8,
   "id": "02f15d8e",
   "metadata": {},
   "outputs": [
    {
     "name": "stdout",
     "output_type": "stream",
     "text": [
      "1\n",
      "1\n",
      "4\n",
      "1\n",
      "3\n",
      "1\n",
      "1\n"
     ]
    }
   ],
   "source": [
    "largest=\n",
    "for i in dictt.values():\n",
    "    print(i)"
   ]
  },
  {
   "cell_type": "code",
   "execution_count": 11,
   "id": "95d29f6f",
   "metadata": {},
   "outputs": [
    {
     "data": {
      "text/plain": [
       "4"
      ]
     },
     "execution_count": 11,
     "metadata": {},
     "output_type": "execute_result"
    }
   ],
   "source": [
    "max(dictt.values())"
   ]
  },
  {
   "cell_type": "code",
   "execution_count": 17,
   "id": "021f81f1",
   "metadata": {},
   "outputs": [
    {
     "data": {
      "text/plain": [
       "7"
      ]
     },
     "execution_count": 17,
     "metadata": {},
     "output_type": "execute_result"
    }
   ],
   "source": [
    "a = [1,2,3,3,3,3,4,5,5,5,6,7]\n",
    "larg=a[0]\n",
    "for i in a:\n",
    "    if larg<i:\n",
    "        larg=i\n",
    "larg"
   ]
  },
  {
   "cell_type": "code",
   "execution_count": null,
   "id": "62923b8b",
   "metadata": {},
   "outputs": [],
   "source": []
  }
 ],
 "metadata": {
  "kernelspec": {
   "display_name": "Python 3 (ipykernel)",
   "language": "python",
   "name": "python3"
  },
  "language_info": {
   "codemirror_mode": {
    "name": "ipython",
    "version": 3
   },
   "file_extension": ".py",
   "mimetype": "text/x-python",
   "name": "python",
   "nbconvert_exporter": "python",
   "pygments_lexer": "ipython3",
   "version": "3.10.9"
  }
 },
 "nbformat": 4,
 "nbformat_minor": 5
}
