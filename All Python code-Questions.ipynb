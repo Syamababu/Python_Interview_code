{
 "cells": [
  {
   "cell_type": "markdown",
   "id": "8ec9ede5",
   "metadata": {},
   "source": [
    "- **2nd largest number in a list**"
   ]
  },
  {
   "cell_type": "code",
   "execution_count": 5,
   "id": "d0928421",
   "metadata": {},
   "outputs": [
    {
     "data": {
      "text/plain": [
       "454"
      ]
     },
     "execution_count": 5,
     "metadata": {},
     "output_type": "execute_result"
    }
   ],
   "source": [
    "# methode 1\n",
    "n=[32,454,5676,89,65,44,3,2,46,6,89,9,56]\n",
    "largest=n[0]\n",
    "sec_largest=n[0]\n",
    "for i in range(len(n)):\n",
    "    if largest<=n[i]:\n",
    "        largest=n[i]\n",
    "largest\n",
    "for i in range(len(n)):\n",
    "    if sec_largest<=n[i] and largest!=n[i]:\n",
    "        sec_largest=n[i]\n",
    "        \n",
    "sec_largest\n",
    "    "
   ]
  },
  {
   "cell_type": "code",
   "execution_count": 2,
   "id": "f7d551be",
   "metadata": {},
   "outputs": [],
   "source": [
    "# methode 2\n",
    "n=[32,454,5676,89,65,44,3,2,46,6,89,9,56]"
   ]
  },
  {
   "cell_type": "code",
   "execution_count": 3,
   "id": "3eb55967",
   "metadata": {},
   "outputs": [],
   "source": [
    "# methode 3\n",
    "n=[32,454,5676,89,65,44,3,2,46,6,89,9,56]\n"
   ]
  },
  {
   "cell_type": "markdown",
   "id": "1ca8c70f",
   "metadata": {},
   "source": [
    "- **Palidrome**"
   ]
  },
  {
   "cell_type": "code",
   "execution_count": 22,
   "id": "67884abc",
   "metadata": {},
   "outputs": [
    {
     "name": "stdout",
     "output_type": "stream",
     "text": [
      "True\n"
     ]
    }
   ],
   "source": [
    "def isPlaidrome(x):\n",
    "    x=str(x)\n",
    "    left,right=0,len(x)-1\n",
    "    while left<right:\n",
    "        if x[left]!=x[right]:\n",
    "            return  False\n",
    "        left+=1\n",
    "        right-=1\n",
    "    return True\n",
    "\n",
    "print(isPlaidrome(123321))\n",
    "\n",
    "\n",
    "def ispalidrome(x):\n",
    "    x=str(x)\n",
    "    l,r=0,len(x)-1\n",
    "    while l<r:\n",
    "        if x[l]!=x[r]:\n",
    "            return False\n",
    "        l+=1\n",
    "        r-=1\n",
    "        return True\n"
   ]
  },
  {
   "cell_type": "markdown",
   "id": "5c9b3013",
   "metadata": {},
   "source": [
    "### reverese the sring"
   ]
  },
  {
   "cell_type": "code",
   "execution_count": 1,
   "id": "a8d51bda",
   "metadata": {},
   "outputs": [
    {
     "name": "stdout",
     "output_type": "stream",
     "text": [
      "mayhs\n",
      "ffdskkhkjs\n",
      "['shyam', 'mera', 'hero', 'hai']\n",
      "['hai', 'hero', 'mera', 'shyam']\n",
      "hai hero mera shyam\n",
      "['mayhs', 'arem', 'iahb', 'esek', 'oh']\n",
      "['one', 'owt', 'three', 'ruof', 'five', 'xis']\n",
      "1\n",
      "3\n",
      "5\n",
      "SBYAABMU\n",
      "sbhaybaumre\n",
      "hjjjjkns2344555\n",
      "aaaaaaaddddsssssccccccccc\n",
      "3f3s6g4t4y\n"
     ]
    }
   ],
   "source": [
    "st=\"shyam\"\n",
    "r=reversed(st)\n",
    "output=''.join(r)\n",
    "print(output)\n",
    "##################\n",
    "s=\"sjkhkksdff\"\n",
    "r=''\n",
    "i=len(s)-1\n",
    "while i>=0:\n",
    " r=r+s[i]\n",
    " i=i-1\n",
    "print(r)\n",
    "########################\n",
    "s=\"shyam mera hero hai\" \n",
    "l=s.split()\n",
    "print(l)\n",
    "l1=l[::-1]\n",
    "print(l1)\n",
    "output=' '.join(l1)\n",
    "print(output)\n",
    "########################\n",
    "s=\"shyam mera bhai kese ho\"\n",
    "l=s.split()\n",
    "d=[ ]\n",
    "for i in l:\n",
    " d.append(i[::-1])\n",
    "output=' '.join(d)\n",
    "print(d) \n",
    "#######################\n",
    "s=\"one two three four five six\"\n",
    "l=s.split()\n",
    "d=[ ]\n",
    "i=0\n",
    "while i <len(l):\n",
    " if i%2==0:\n",
    "  d.append(l[i])\n",
    " else:\n",
    "  d.append(l[i][::-1])\n",
    " i=i+1\n",
    " output=\" \".join(d)\n",
    "print(d)\n",
    "##############################\n",
    "i=1\n",
    "while i<=5:\n",
    " print(i)\n",
    " i=i+2\n",
    " \"\"\"\n",
    "################################\n",
    "s=\"lkakashdjfhlh\"\n",
    "i=1\n",
    "while i<=len(s):  \n",
    " print(s[i])\n",
    " i=i+2\n",
    "######################\n",
    "s=\"lkakashdjfhlh\"\n",
    "i=0\n",
    "while i<=len(s):\n",
    " print(s[i])\n",
    " i=i+1\n",
    "##########################\n",
    "\"\"\"\n",
    "s1=\"SYAM\"\n",
    "s2=\"BABU\"\n",
    "output=''\n",
    "i,j=0,0\n",
    "while i<len(s1) or j<len(s2):\n",
    " output=output+s1[i]+s2[j]\n",
    " i=i+1\n",
    " j=j+1\n",
    "print(output)\n",
    "##################\n",
    "l1=\"shyam\"\n",
    "l2=\"babure\"\n",
    "r=''\n",
    "i,j=0,0\n",
    "while i<len(l1) or j<len(l2):\n",
    " if i<len(l1):\n",
    "  r=r+l1[i]\n",
    "  i=i+1\n",
    " if j<len(l2):\n",
    "  r=r+l2[j]\n",
    "  j=j+1\n",
    "\n",
    "print(r)\n",
    "###########################\n",
    "s=\"skjj234nj45h5j5\"\n",
    "# print(sorted(s))\n",
    "al=[]\n",
    "di=[]\n",
    "for ch in s:\n",
    " if ch.isalpha():\n",
    "  al.append(ch)\n",
    " else:\n",
    "  di.append(ch)\n",
    "res=''.join(sorted(al)+sorted(di))\n",
    "print(res)\n",
    "################\n",
    "s=\"a7d4s5c9\"\n",
    "re=''\n",
    "for ch in s:\n",
    " if ch.isalpha():\n",
    "  x=ch\n",
    " else:\n",
    "  d=int(ch)\n",
    "  re=re+x*d\n",
    "print(re)\n",
    "###########################\n",
    "s=\"fffsssggggggttttyyyy\"\n",
    "res=\"\"\n",
    "prev=s[0]\n",
    "c=1\n",
    "i=1\n",
    "while i<len(s):\n",
    " if s[i]==prev:\n",
    "  c=c+1\n",
    " else:\n",
    "  res=res+str(c)+prev\n",
    "  prev=s[i]\n",
    "  c=1\n",
    " if i==len(s)-1:\n",
    "  res=res+str(c)+prev\n",
    " i=i+1\n",
    "print(res)"
   ]
  },
  {
   "cell_type": "markdown",
   "id": "39ebd977",
   "metadata": {},
   "source": [
    "#### max and 2nd max value"
   ]
  },
  {
   "cell_type": "code",
   "execution_count": 2,
   "id": "84ca6908",
   "metadata": {},
   "outputs": [
    {
     "name": "stdout",
     "output_type": "stream",
     "text": [
      "y\n",
      "y\n",
      "y\n",
      "y\n"
     ]
    }
   ],
   "source": [
    "m=max(s)\n",
    "print(m)\n",
    "########################\n",
    "m2=sorted(s)[-1]\n",
    "print(m2)\n",
    "#####################\n",
    "m3=s[0]\n",
    "for i in s:\n",
    "    if i>m3:\n",
    "        m3=i\n",
    "print(m3)\n",
    "\n",
    "m4=s[0]\n",
    "for i in s:\n",
    "    if i>m4:\n",
    "        m4=i\n",
    "print(m4)"
   ]
  },
  {
   "cell_type": "markdown",
   "id": "ea7b5961",
   "metadata": {},
   "source": [
    "#### Leader"
   ]
  },
  {
   "cell_type": "code",
   "execution_count": 22,
   "id": "bbb2a856",
   "metadata": {},
   "outputs": [
    {
     "name": "stdout",
     "output_type": "stream",
     "text": [
      "17\n",
      "8\n",
      "5\n",
      "2\n"
     ]
    }
   ],
   "source": [
    "l = [16, 17, 8, 3, 5, 2]\n",
    "\n",
    "for i in range(0, len(l)):\n",
    "    for j in range(i + 1, len(l)):\n",
    "#         print(j)\n",
    "        if l[i] <= l[j]:\n",
    "            break\n",
    "    else:\n",
    "        print(l[i])\n",
    "\n"
   ]
  },
  {
   "cell_type": "markdown",
   "id": "510d2f7d",
   "metadata": {},
   "source": [
    "#### print as many times as many time it appears"
   ]
  },
  {
   "cell_type": "code",
   "execution_count": 14,
   "id": "5d2601dd",
   "metadata": {},
   "outputs": [
    {
     "name": "stdout",
     "output_type": "stream",
     "text": [
      "abcaabbaaabbbabcaabbaaabbbaaaa"
     ]
    }
   ],
   "source": [
    "s1='abcabab'\n",
    "d={}\n",
    "for ch in s1:\n",
    "    if ch not in d:\n",
    "        d[ch]=1\n",
    "        print(ch,end='')\n",
    "    else:\n",
    "        d[ch]=d[ch]+1\n",
    "        print(ch*d[ch],end='')\n",
    "\n",
    "######################################\n",
    "s1='abcababa'\n",
    "d={}\n",
    "for ch in s1:\n",
    "    if ch not in d:\n",
    "        d[ch]=1\n",
    "        print(ch,end='')\n",
    "    else:\n",
    "        d[ch]=d[ch]+1\n",
    "        print(ch*d[ch],end='')\n",
    "\n"
   ]
  },
  {
   "cell_type": "markdown",
   "id": "994823c9",
   "metadata": {},
   "source": [
    "#### 4 way to write "
   ]
  },
  {
   "cell_type": "code",
   "execution_count": null,
   "id": "fe7ee580",
   "metadata": {},
   "outputs": [],
   "source": [
    "# syntex=[expression for variable in itarable]\n",
    "n=[1,2,4,3,55,7,8,8,9,0,9]\n",
    "sq=[]\n",
    "for i in n:\n",
    "    sq.append(i*i)\n",
    "print(sq)\n",
    "\n",
    "print([i*i for i in n])\n",
    "# syntex=[expression for variable in itarable if cond]\n",
    "n=[1,2,4,3,55,7,8,8,9,0,9]\n",
    "sq=[]\n",
    "for i in n:\n",
    "    if i%2==0:\n",
    "        if i%3==0:\n",
    "            sq.append(i*i)\n",
    "print(sq)\n",
    "\n",
    "print([i*i for i in n if i%2==0 if i%3==0])\n",
    "# if-else) [expression if cond else expression for var in iterable]\n",
    "n=[1,2,4,3,55,7,8,8,9,0,9]\n",
    "res=[]\n",
    "for i in n:\n",
    "    if i%2==0:\n",
    "        res.append(i*i)\n",
    "    else:\n",
    "        res.append(i*i*i)\n",
    "print(res)\n",
    "\n",
    "print([i*i if i%2==0 else i*i*i for i in n])\n",
    "\n",
    "#############################\n",
    "\n",
    "d={ }\n",
    "for i in range(1,10):\n",
    "    # sqr=i*i\n",
    "    d[i]=i*i\n",
    "\n",
    "print(d)\n",
    "\n",
    "############################\n",
    "\n",
    "print({n:n*n for n in range(1,10)})\n",
    "\n",
    "#####################################################\n",
    "\n",
    "d1={}\n",
    "for n in range(1,10):\n",
    "    if n%2==0:\n",
    "        d1[n]=d.get(n,n*n)\n",
    "\n",
    "print(d1)\n",
    "\n",
    "print({n:n*n for n in range(1,10) if n%2==0})\n",
    "\n",
    "d2={}\n",
    "for n in range(1,10):\n",
    "    if n%2==0:\n",
    "        d2[n]=d.get(n,n*n)\n",
    "    else:\n",
    "        d2[n]=d.get(n,n)\n",
    "print(d2)\n",
    "\n",
    "print({n:n*n if n%2==0 else n:n*n*n for n in range(1,10)  })\n",
    "\n"
   ]
  },
  {
   "cell_type": "markdown",
   "id": "a189c711",
   "metadata": {},
   "source": [
    "#### in each int value get the alphabet which is sum of previous alphabet and that number"
   ]
  },
  {
   "cell_type": "code",
   "execution_count": 8,
   "id": "28d48823",
   "metadata": {},
   "outputs": [
    {
     "name": "stdout",
     "output_type": "stream",
     "text": [
      "afdhfi\n"
     ]
    }
   ],
   "source": [
    "s1='a5d4f3'\n",
    "s2=''\n",
    "\n",
    "for i in s1:\n",
    "    if i.isalpha():\n",
    "        s2=s2+i\n",
    "        temp=i\n",
    "    else:\n",
    "        s2=s2+chr(ord(temp)+int(i))\n",
    "        \n",
    "print(s2)"
   ]
  },
  {
   "cell_type": "markdown",
   "id": "b37b4481",
   "metadata": {},
   "source": [
    "#### dealing with nasted distionary"
   ]
  },
  {
   "cell_type": "code",
   "execution_count": 9,
   "id": "ee356a66",
   "metadata": {},
   "outputs": [
    {
     "name": "stdout",
     "output_type": "stream",
     "text": [
      "{'a': 2, 'b': 3, 'c': 4, 'e': 5}\n",
      "4\n",
      "13\n",
      "3\n",
      "4\n",
      "5\n",
      "{'d': {'a': 2, 'b': 123, 'c': 4, 'e': 5}, 'g': 4, 'm': 13}\n",
      "{'d': {'a': 2, 'b': 123, 'c': 4, 'e': 5}, 'g': 4, 'm': 13, 'x': 99}\n",
      "{'d': {'a': 2, 'b': 123, 'c': 4, 'e': 5}, 'g': 4, 'm': 13, 'x': 99, 'z': {'l': 90, 's': 80, 'q': 50}}\n"
     ]
    }
   ],
   "source": [
    "d={'d':{'a':2,'b':3,'c':4,'e':5},'g':4,'m':13}\n",
    "print(d['d'])\n",
    "print(d['g'])\n",
    "print(d['m'])\n",
    "#################################\n",
    "print(d['d']['b'])\n",
    "print(d['d']['c'])\n",
    "print(d['d']['e'])\n",
    "####################################\n",
    "d['d']['b']=123\n",
    "print(d)\n",
    "#####################\n",
    "d.update({'x':99})\n",
    "print(d)\n",
    "##################################\n",
    "d['z']={}\n",
    "d['z']['l']=90\n",
    "d['z']['s']=80\n",
    "d['z']['q']=50\n",
    "print(d)\n",
    "#########################\n",
    "del d['z']['l']\n",
    "del d['z']"
   ]
  },
  {
   "cell_type": "markdown",
   "id": "86afbb55",
   "metadata": {},
   "source": [
    "#### reverser a list by using recursion"
   ]
  },
  {
   "cell_type": "code",
   "execution_count": 10,
   "id": "61adae18",
   "metadata": {},
   "outputs": [
    {
     "name": "stdout",
     "output_type": "stream",
     "text": [
      "[4, 3, 2, 1]\n"
     ]
    }
   ],
   "source": [
    "def revli(l):\n",
    "    if not l:\n",
    "        return []\n",
    "    else:\n",
    "        return  [l[-1]]+revli(l[:-1])\n",
    "\n",
    "print(revli([1,2,3,4]))"
   ]
  },
  {
   "cell_type": "markdown",
   "id": "b7f16cc5",
   "metadata": {},
   "source": [
    "#### Different way to reverse the strings"
   ]
  },
  {
   "cell_type": "code",
   "execution_count": 11,
   "id": "315b9091",
   "metadata": {},
   "outputs": [
    {
     "name": "stdout",
     "output_type": "stream",
     "text": [
      "ubabamayhs\n",
      "ubabamayhs\n",
      "ubabamayhs\n",
      "mali babu shyam\n",
      "mayhs ubab ilam\n"
     ]
    },
    {
     "ename": "MemoryError",
     "evalue": "",
     "output_type": "error",
     "traceback": [
      "\u001b[1;31m---------------------------------------------------------------------------\u001b[0m",
      "\u001b[1;31mMemoryError\u001b[0m                               Traceback (most recent call last)",
      "Cell \u001b[1;32mIn[11], line 39\u001b[0m\n\u001b[0;32m     37\u001b[0m         d\u001b[38;5;241m.\u001b[39mappend(ns[i])\n\u001b[0;32m     38\u001b[0m     \u001b[38;5;28;01melse\u001b[39;00m:\n\u001b[1;32m---> 39\u001b[0m         \u001b[43md\u001b[49m\u001b[38;5;241;43m.\u001b[39;49m\u001b[43mappend\u001b[49m\u001b[43m(\u001b[49m\u001b[43mns\u001b[49m\u001b[43m[\u001b[49m\u001b[43mi\u001b[49m\u001b[43m]\u001b[49m\u001b[43m[\u001b[49m\u001b[43m:\u001b[49m\u001b[43m:\u001b[49m\u001b[38;5;241;43m-\u001b[39;49m\u001b[38;5;241;43m1\u001b[39;49m\u001b[43m]\u001b[49m\u001b[43m)\u001b[49m\n\u001b[0;32m     40\u001b[0m \u001b[38;5;28mprint\u001b[39m(d)\n",
      "\u001b[1;31mMemoryError\u001b[0m: "
     ]
    }
   ],
   "source": [
    "#by using slicing\n",
    "s='shyamababu'\n",
    "nl=s[::-1]\n",
    "print(nl)\n",
    "#by using inbuild reversed functions\n",
    "s='shyamababu'\n",
    "ns=reversed(s)\n",
    "res=''.join(ns)\n",
    "print(res)\n",
    "#using loop /// not using in-build function\n",
    "res=''\n",
    "i=len(s)-1\n",
    "while i>=0:\n",
    "    res=res+s[i]\n",
    "    i=i-1\n",
    "print(res)\n",
    "#each word of a sentance\n",
    "ss='shyam babu mali'\n",
    "nl=ss.split()\n",
    "r=nl[::-1]\n",
    "res=' '.join(r)\n",
    "print(res)\n",
    "#each word take reveresed\n",
    "ns=ss.split()\n",
    "res=[]\n",
    "for i in ns:\n",
    "    res.append(i[::-1])\n",
    "output=' '.join(res)\n",
    "print(output)\n",
    "\n",
    "#each alternative word take reveresed\n",
    "ns=ss.split()\n",
    "d=[]\n",
    "i=1\n",
    "while i < len(ns):\n",
    "    if i%2==0:\n",
    "        d.append(ns[i])\n",
    "    else:\n",
    "        d.append(ns[i][::-1])\n",
    "print(d)"
   ]
  },
  {
   "cell_type": "markdown",
   "id": "6c178690",
   "metadata": {},
   "source": [
    "#### Search \n"
   ]
  },
  {
   "cell_type": "code",
   "execution_count": null,
   "id": "639cf808",
   "metadata": {},
   "outputs": [],
   "source": [
    "#Linear searching\n",
    "x=[23,5,6,76,78,89,9,98,87,67,65,54]\n",
    "n=int(input('enter mere bhaia:'))\n",
    "pos=0\n",
    "for i in range(0,len(x)):\n",
    "    if n==x[i]:\n",
    "        pos=i+1\n",
    "        break\n",
    "if pos==0:\n",
    "    print('numder not found')\n",
    "else:\n",
    "    print('position is,' , pos)\n",
    "#Binary search\n",
    "#we should have sorted list\n",
    "l=[1,2,3,4,5,6,7,8,9,90,567]\n",
    "n=5\n",
    "f=0\n",
    "l=len(l)-1\n",
    "while f<=l:\n",
    "    mid=(f+l)//2\n",
    "    if l[mid]==n:\n",
    "        print('position is', mid+1)\n",
    "        break\n",
    "    elif l[mid]>n:\n",
    "        l=mid-1\n",
    "    else:\n",
    "        f=mid+1\n",
    "if f>l:\n",
    "    print('no not found')"
   ]
  },
  {
   "cell_type": "markdown",
   "id": "dd66880a",
   "metadata": {},
   "source": [
    "#### String Palidrome"
   ]
  },
  {
   "cell_type": "code",
   "execution_count": null,
   "id": "e30b4075",
   "metadata": {},
   "outputs": [],
   "source": [
    "s=\"nitin\"\n",
    "rev=''\n",
    "temp=s\n",
    "i=len(s)-1\n",
    "while i>=0:\n",
    "    rev=rev+s[i]\n",
    "    i=i-1\n",
    "if temp==rev:\n",
    "    print(\"palidrome\")\n",
    "else:\n",
    "    print(\"no beta\")"
   ]
  },
  {
   "cell_type": "markdown",
   "id": "07938d6f",
   "metadata": {},
   "source": [
    "#### Whitout 0"
   ]
  },
  {
   "cell_type": "code",
   "execution_count": null,
   "id": "25c5cbac",
   "metadata": {},
   "outputs": [],
   "source": [
    "l=[890,90,809,68098,670990,990,89099]\n",
    "res=[]\n",
    "for i in l:\n",
    "    i=str(i)\n",
    "    num=i.split('0')\n",
    "    res.append(int(''.join(num)))\n",
    "print(res)"
   ]
  },
  {
   "cell_type": "markdown",
   "id": "3544369d",
   "metadata": {},
   "source": [
    "#### Sort without using sort method"
   ]
  },
  {
   "cell_type": "code",
   "execution_count": null,
   "id": "e21d114e",
   "metadata": {},
   "outputs": [],
   "source": [
    "s='ddjjjnbvhhhvjfjjjqjqjjqjjhhhhhhsssss'\n",
    "l=[]\n",
    "for ch in s:\n",
    "    if ch not in l:\n",
    "        l.append(ch)\n",
    "\n",
    "for ch in sorted(l):\n",
    "    print(ch,s.count(ch))\n",
    "    ######################\n",
    "s='ddjjjnbvhhhvjfjjjqjqjjqjjhhhhhhsssss'\n",
    "l=set(s)\n",
    "for ch in sorted(l):\n",
    "    print(ch,s.count(ch))\n",
    "################\n",
    "s1='sssddddccaaaa'\n",
    "output=''\n",
    "d={}\n",
    "for ch in s1:\n",
    "    d[ch]=d.get(ch,0)+1\n",
    "for k , v in sorted(d.items()):\n",
    "    output=output+str(v)+k\n",
    "print(output)\n",
    "#############################\n",
    "s2='aieekkfjfiiidnvcnncjcnfhfjiiiiiaaaksjjduu'\n",
    "v=[\"a\",\"e\",\"i\",\"o\",\"u\"]\n",
    "d={}\n",
    "for ch in s2:\n",
    "    if ch in v:\n",
    "        d[ch]=d.get(ch,0)+1\n",
    "for k,v in sorted (d.items()):\n",
    "    print(k,v)"
   ]
  },
  {
   "cell_type": "markdown",
   "id": "8044bd7c",
   "metadata": {},
   "source": [
    "#### 2nd largest number"
   ]
  },
  {
   "cell_type": "code",
   "execution_count": null,
   "id": "d5058cef",
   "metadata": {},
   "outputs": [],
   "source": [
    "def sechighst(l):\n",
    "    l.sort\n",
    "    print(l[-2])\n",
    "\n",
    "l=[23,11,24,566,788,65,99]\n",
    "sechighst(l)\n",
    "# by using set and max\n",
    "l=[23,11,24,566,788,65,99]\n",
    "new_l=set(l)\n",
    "print(new_l)\n",
    "new_l.remove(max(new_l))\n",
    "print(max(new_l))"
   ]
  },
  {
   "cell_type": "markdown",
   "id": "688dc928",
   "metadata": {},
   "source": [
    "#### 2nd largest no"
   ]
  },
  {
   "cell_type": "code",
   "execution_count": null,
   "id": "0cc49b04",
   "metadata": {},
   "outputs": [],
   "source": [
    "# n=[23,4344,5,67,3,334,5,6,4,34,5,65,7,76]\n",
    "# n.sort()\n",
    "# print(n)\n",
    "# print(n[-2])\n",
    "#\n",
    "# n.remove(max(n))\n",
    "# print(n)\n",
    "# print(max(n))\n",
    "#\n",
    "# largest=n[0]\n",
    "# sec_largest=n[0]\n",
    "# for i in range(len(n)):\n",
    "#     if n[i]>largest:\n",
    "#         largest=n[i]\n",
    "# print(largest)\n",
    "# for i in range(len(n)):\n",
    "#     if n[i]>sec_largest and n[i]!=largest:\n",
    "#         sec_largest=n[i]\n",
    "# print(sec_largest)\n",
    "\n",
    "n=[32,454,5676,89,65,44,3,2,46,6,89,9,56]\n",
    "\n",
    "largest=n[0]\n",
    "sec_largest=n[0]\n",
    "for i in range(len(n)):\n",
    "    if n[i]>largest:\n",
    "        largest=n[i]\n",
    "print(largest)\n",
    "for i in range(len(n)):\n",
    "    if n[i]>sec_largest and n[i]!=largest:\n",
    "        sec_largest=n[i]\n",
    "print(sec_largest)"
   ]
  },
  {
   "cell_type": "markdown",
   "id": "1f9d2964",
   "metadata": {},
   "source": [
    "#### sum of digit"
   ]
  },
  {
   "cell_type": "code",
   "execution_count": null,
   "id": "7ce24107",
   "metadata": {},
   "outputs": [],
   "source": [
    "l=[2,32,45,67,982]\n",
    "out=[]\n",
    "for num in l:\n",
    "    num=str(num)\n",
    "    sum=0\n",
    "    for digit in num:\n",
    "        sum=sum+int(digit)\n",
    "    out.append(sum)\n",
    "\n",
    "print(l)\n",
    "print(out)"
   ]
  },
  {
   "cell_type": "markdown",
   "id": "3c2f1b95",
   "metadata": {},
   "source": [
    "#### 2 type of sorting"
   ]
  },
  {
   "cell_type": "code",
   "execution_count": null,
   "id": "1c4ea8ae",
   "metadata": {},
   "outputs": [],
   "source": [
    "x=[34,56,67,78,89,3,4,5,5,6]\n",
    "\n",
    "for i in range(0,len(x)):\n",
    "    for j in range(i+1,len(x)):\n",
    "        if x[i]>x[j]:\n",
    "            temp=x[i]\n",
    "            x[i]=x[j]\n",
    "            x[j]=temp\n",
    "\n",
    "print(x)\n",
    "\n",
    "#buble sorting\n",
    "\n",
    "x=[34,56,67,78,89,3,4,5,5,6]\n",
    "\n",
    "for i in range(0,len(x)):\n",
    "    for j in range(0,len(x)-1):\n",
    "        if x[j]>x[j+1]:\n",
    "            temp=x[j]\n",
    "            x[j]=x[j+1]\n",
    "            x[j+1]=temp\n",
    "\n",
    "print(x)\n"
   ]
  },
  {
   "cell_type": "markdown",
   "id": "8f2708a4",
   "metadata": {},
   "source": [
    "#### eita gote kn ki"
   ]
  },
  {
   "cell_type": "code",
   "execution_count": null,
   "id": "245b8fe1",
   "metadata": {},
   "outputs": [],
   "source": [
    "#append\n",
    "\n",
    "l=[]\n",
    "for i in range(1,n+1):\n",
    "    x=int(input('Enter ur no: '))\n",
    "    l.append(x)\n",
    "\n",
    "print(x)\n",
    "\n",
    "#eval---------\n",
    "l=eval(input('Enter ur list: '))\n",
    "\n",
    "print(l)"
   ]
  },
  {
   "cell_type": "markdown",
   "id": "00362cbc",
   "metadata": {},
   "source": [
    "#### Duplicate handling"
   ]
  },
  {
   "cell_type": "code",
   "execution_count": null,
   "id": "59b835ce",
   "metadata": {},
   "outputs": [],
   "source": [
    "l=[2,3,4,5,4,2,3,4,5,433,3,3,2,4,5,5,3]\n",
    "#remove dublicate by set== you will get set== then list\n",
    "d=set(l)\n",
    "print(list(d))\n",
    "#remove dublicate without set functions approch 1\n",
    "d=[]\n",
    "for i in l:\n",
    "    if i not in d:\n",
    "        d.append(i)\n",
    "print(d)\n",
    "#remove dublicate without set functions approch 2\n",
    "d2=[]\n",
    "for i in l:\n",
    "    if i in d2:\n",
    "        pass\n",
    "    else:\n",
    "        d2.append(i)\n",
    "print(d2)\n",
    "#find the dublicate value or find reapeted value:;;\n",
    "d3=[]\n",
    "for i in l:\n",
    "    if l.count(i)>1 and i not in d3:\n",
    "        d3.append(i)\n",
    "print(d3)\n",
    "\n"
   ]
  },
  {
   "cell_type": "markdown",
   "id": "e984261d",
   "metadata": {},
   "source": [
    "#### Fibonaci series using generator"
   ]
  },
  {
   "cell_type": "code",
   "execution_count": null,
   "id": "baadf604",
   "metadata": {},
   "outputs": [],
   "source": [
    "def fib(num):\n",
    "    a=0\n",
    "    b=1\n",
    "    for i in range(num):\n",
    "        yield a\n",
    "        a,b=b,a+b\n",
    "print(list(fib(11)))\n",
    "###########################\n",
    "\n",
    "def fib(n):\n",
    "    a,b=0,1\n",
    "    for i in range(n):\n",
    "        yield a\n",
    "        a,b=b,a+b\n",
    "print(list(fib(11)))"
   ]
  },
  {
   "cell_type": "markdown",
   "id": "2fe02f3a",
   "metadata": {},
   "source": [
    "#### Simple multiplication"
   ]
  },
  {
   "cell_type": "code",
   "execution_count": null,
   "id": "194c8311",
   "metadata": {},
   "outputs": [],
   "source": [
    "# n1=5\n",
    "# n2=6\n",
    "# sum=0\n",
    "# for i in range(1,n1+1):\n",
    "#     sum=sum+n2\n",
    "#\n",
    "# print(sum)\n",
    "\n",
    "n1=10\n",
    "n2=20\n",
    "sum=0\n",
    "for i in range(1,n1+1):\n",
    "    sum=sum+n2\n",
    "\n",
    "print(sum)\n"
   ]
  },
  {
   "cell_type": "code",
   "execution_count": null,
   "id": "3c27d7c5",
   "metadata": {},
   "outputs": [],
   "source": []
  },
  {
   "cell_type": "code",
   "execution_count": null,
   "id": "102d4e7c",
   "metadata": {},
   "outputs": [],
   "source": []
  },
  {
   "cell_type": "code",
   "execution_count": null,
   "id": "076d7ff0",
   "metadata": {},
   "outputs": [],
   "source": []
  },
  {
   "cell_type": "code",
   "execution_count": null,
   "id": "1afbdf8d",
   "metadata": {},
   "outputs": [],
   "source": []
  }
 ],
 "metadata": {
  "kernelspec": {
   "display_name": "Python 3 (ipykernel)",
   "language": "python",
   "name": "python3"
  },
  "language_info": {
   "codemirror_mode": {
    "name": "ipython",
    "version": 3
   },
   "file_extension": ".py",
   "mimetype": "text/x-python",
   "name": "python",
   "nbconvert_exporter": "python",
   "pygments_lexer": "ipython3",
   "version": "3.10.9"
  }
 },
 "nbformat": 4,
 "nbformat_minor": 5
}
