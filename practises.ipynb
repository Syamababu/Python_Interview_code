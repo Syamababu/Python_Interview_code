{
 "cells": [
  {
   "cell_type": "code",
   "execution_count": 2,
   "id": "33bba502",
   "metadata": {},
   "outputs": [
    {
     "data": {
      "text/plain": [
       "5676"
      ]
     },
     "execution_count": 2,
     "metadata": {},
     "output_type": "execute_result"
    }
   ],
   "source": [
    "n=[32,454,5676,89,65,44,3,2,46,6,89,9,56]\n",
    "larg=n[0]\n",
    "s_larg=n[0]\n",
    "for i in n:\n",
    "    if i>larg:\n",
    "        larg=i\n",
    "for j in n:\n",
    "    if j>s_larg and j!=larg:\n",
    "        s_larg=j\n",
    "larg"
   ]
  },
  {
   "cell_type": "code",
   "execution_count": 3,
   "id": "47b1ec38",
   "metadata": {},
   "outputs": [
    {
     "data": {
      "text/plain": [
       "'sbhaybaumre'"
      ]
     },
     "execution_count": 3,
     "metadata": {},
     "output_type": "execute_result"
    }
   ],
   "source": [
    "l1=\"shyam\"\n",
    "l2=\"babure\"\n",
    "i,j=0,0\n",
    "r=''\n",
    "while i<len(l1) or j<len(l2):\n",
    "    if i<len(l1):\n",
    "        r+=l1[i]\n",
    "        i+=1\n",
    "    if j<len(l2):\n",
    "        r+=l2[j]\n",
    "        j+=1\n",
    "r"
   ]
  },
  {
   "cell_type": "code",
   "execution_count": 4,
   "id": "6220b721",
   "metadata": {},
   "outputs": [
    {
     "data": {
      "text/plain": [
       "'hjjjjkns2344555'"
      ]
     },
     "execution_count": 4,
     "metadata": {},
     "output_type": "execute_result"
    }
   ],
   "source": [
    "s=\"skjj234nj45h5j5\"\n",
    "al=[]\n",
    "n=[]\n",
    "for i in s:\n",
    "    if i.isalpha():\n",
    "        al.append(i)\n",
    "    else:\n",
    "        n.append(i)\n",
    "''.join(sorted(al)+sorted(n))"
   ]
  },
  {
   "cell_type": "code",
   "execution_count": 5,
   "id": "73cb8195",
   "metadata": {},
   "outputs": [
    {
     "name": "stdout",
     "output_type": "stream",
     "text": [
      "aaaaaaaadddddsssssscccccccccc"
     ]
    }
   ],
   "source": [
    "s=\"a7d4s5c9\"\n",
    "for i in s:\n",
    "    if i.isalpha():\n",
    "        temp=i\n",
    "        print(i,end='')\n",
    "    else:\n",
    "        print(temp*int(i),end='')"
   ]
  },
  {
   "cell_type": "code",
   "execution_count": 8,
   "id": "00e5ec51",
   "metadata": {},
   "outputs": [
    {
     "name": "stdout",
     "output_type": "stream",
     "text": [
      "f3s3g6t4y4"
     ]
    }
   ],
   "source": [
    "s=\"fffsssggggggttttyyyy\"\n",
    "d={}\n",
    "for i in s:\n",
    "    d[i]=d.get(i,0)+1\n",
    "for k,v in d.items():\n",
    "    print(k+str(v),end='')"
   ]
  },
  {
   "cell_type": "code",
   "execution_count": 12,
   "id": "2a6a2c38",
   "metadata": {},
   "outputs": [
    {
     "name": "stdout",
     "output_type": "stream",
     "text": [
      "abcaabbaaabbb"
     ]
    }
   ],
   "source": [
    "s1='abcabab'\n",
    "d={}\n",
    "for i in s1:\n",
    "    if i not in d:\n",
    "        d[i]=1\n",
    "        print(i,end='')\n",
    "    else:\n",
    "        d[i]=d[i]+1\n",
    "        print(i*int(d[i]),end='')\n",
    "    "
   ]
  },
  {
   "cell_type": "code",
   "execution_count": 13,
   "id": "e622f0ef",
   "metadata": {},
   "outputs": [
    {
     "name": "stdout",
     "output_type": "stream",
     "text": [
      "afdhfi"
     ]
    }
   ],
   "source": [
    "s1='a5d4f3'\n",
    "for i in s1:\n",
    "    if i.isalpha():\n",
    "        temp=i\n",
    "        print(i,end='')\n",
    "    else:\n",
    "        \n",
    "        print(chr(ord(temp)+int(i)),end='')"
   ]
  },
  {
   "cell_type": "code",
   "execution_count": 15,
   "id": "5f1b42ee",
   "metadata": {},
   "outputs": [],
   "source": [
    "l=[2,3,4,5,4,2,3,4,5,433,3,3,2,4,5,5,3]\n",
    "d=set(l)"
   ]
  },
  {
   "cell_type": "code",
   "execution_count": 20,
   "id": "ce5a401e",
   "metadata": {},
   "outputs": [
    {
     "name": "stdout",
     "output_type": "stream",
     "text": [
      "0\n",
      "1\n",
      "1\n",
      "2\n",
      "3\n"
     ]
    }
   ],
   "source": [
    "a,b=0,1\n",
    "for i in range(5):\n",
    "    print(a)    \n",
    "    a,b=b,a+b\n"
   ]
  },
  {
   "cell_type": "code",
   "execution_count": null,
   "id": "c6cf6e1c",
   "metadata": {},
   "outputs": [],
   "source": [
    "400- bad request\n",
    "401- forbidane\n",
    "404- page not found\n",
    "200- ok/success\n",
    "500- servers side errors\n",
    "201- created"
   ]
  }
 ],
 "metadata": {
  "kernelspec": {
   "display_name": "Python 3 (ipykernel)",
   "language": "python",
   "name": "python3"
  },
  "language_info": {
   "codemirror_mode": {
    "name": "ipython",
    "version": 3
   },
   "file_extension": ".py",
   "mimetype": "text/x-python",
   "name": "python",
   "nbconvert_exporter": "python",
   "pygments_lexer": "ipython3",
   "version": "3.10.9"
  }
 },
 "nbformat": 4,
 "nbformat_minor": 5
}
